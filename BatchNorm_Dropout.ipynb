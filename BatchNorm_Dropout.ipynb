{
  "nbformat": 4,
  "nbformat_minor": 0,
  "metadata": {
    "colab": {
      "name": "BatchNorm_Dropout.ipynb",
      "provenance": [],
      "collapsed_sections": [],
      "include_colab_link": true
    },
    "kernelspec": {
      "name": "python3",
      "display_name": "Python 3"
    },
    "accelerator": "GPU"
  },
  "cells": [
    {
      "cell_type": "markdown",
      "metadata": {
        "id": "view-in-github",
        "colab_type": "text"
      },
      "source": [
        "<a href=\"https://colab.research.google.com/github/sivahariditty/CNN-Experiments/blob/main/BatchNorm_Dropout.ipynb\" target=\"_parent\"><img src=\"https://colab.research.google.com/assets/colab-badge.svg\" alt=\"Open In Colab\"/></a>"
      ]
    },
    {
      "cell_type": "markdown",
      "metadata": {
        "id": "SgrUToDuQkxV"
      },
      "source": [
        "#Outline\n",
        "\n",
        "1. Load dataset and visualise\n",
        "2. Add batchnorm layers\n",
        "3. Comparison with and without batchnorm layers\n",
        "4. Add dropout layer\n",
        "5. Comparison with and without dropout layer"
      ]
    },
    {
      "cell_type": "code",
      "metadata": {
        "id": "beLospdZjvOP"
      },
      "source": [
        "import torch\n",
        "import matplotlib.pyplot as plt\n",
        "import numpy as np\n",
        "\n",
        "import torchvision\n",
        "import torchvision.transforms as transforms\n",
        "\n",
        "import torch.nn as nn\n",
        "import torch.optim as optim\n",
        "import seaborn as sns\n"
      ],
      "execution_count": 88,
      "outputs": []
    },
    {
      "cell_type": "markdown",
      "metadata": {
        "id": "s0-bFQI_RGCX"
      },
      "source": [
        "## Dataset and visualisation"
      ]
    },
    {
      "cell_type": "code",
      "metadata": {
        "id": "RJPmimiFkJne"
      },
      "source": [
        "trainset = torchvision.datasets.MNIST(root='./data', train=True, \n",
        "                                        download=True, \n",
        "                                        transform=transforms.ToTensor())"
      ],
      "execution_count": 89,
      "outputs": []
    },
    {
      "cell_type": "code",
      "source": [
        "type(trainset)"
      ],
      "metadata": {
        "colab": {
          "base_uri": "https://localhost:8080/"
        },
        "id": "FGiTudV8yOew",
        "outputId": "d1debb01-6eb2-4895-d7e9-39ed1cc93621"
      },
      "execution_count": 90,
      "outputs": [
        {
          "output_type": "execute_result",
          "data": {
            "text/plain": [
              "torchvision.datasets.mnist.MNIST"
            ]
          },
          "metadata": {},
          "execution_count": 90
        }
      ]
    },
    {
      "cell_type": "code",
      "metadata": {
        "id": "xavch3tSkqwj"
      },
      "source": [
        "batch_size = 4"
      ],
      "execution_count": 91,
      "outputs": []
    },
    {
      "cell_type": "code",
      "metadata": {
        "id": "tX1zCC6pkFqA"
      },
      "source": [
        "trainloader = torch.utils.data.DataLoader(trainset, batch_size=batch_size, shuffle=True)"
      ],
      "execution_count": 92,
      "outputs": []
    },
    {
      "cell_type": "code",
      "metadata": {
        "id": "sCwL4w0PkKTP",
        "outputId": "523326b3-7952-4b1e-a0e6-159c7948f424",
        "colab": {
          "base_uri": "https://localhost:8080/"
        }
      },
      "source": [
        "dataiter = iter(trainloader)\n",
        "images, labels = dataiter.next()\n",
        "\n",
        "print(images.shape)\n",
        "\n",
        "print(images[0].shape)\n",
        "print(labels[0].item())"
      ],
      "execution_count": 93,
      "outputs": [
        {
          "output_type": "stream",
          "name": "stdout",
          "text": [
            "torch.Size([4, 1, 28, 28])\n",
            "torch.Size([1, 28, 28])\n",
            "0\n"
          ]
        }
      ]
    },
    {
      "cell_type": "code",
      "metadata": {
        "id": "OgZVAOT0kNjN"
      },
      "source": [
        "def imshow(img, title):\n",
        "    \n",
        "    plt.figure(figsize=(batch_size * 4, 4))\n",
        "    plt.axis('off')\n",
        "    plt.imshow(np.transpose(img, (1, 2, 0)))\n",
        "    plt.title(title)\n",
        "    plt.show()"
      ],
      "execution_count": 94,
      "outputs": []
    },
    {
      "cell_type": "code",
      "metadata": {
        "id": "rdtOR7uUkcMV"
      },
      "source": [
        "def show_batch_images(dataloader):\n",
        "    images, labels = next(iter(dataloader))\n",
        "    \n",
        "    img = torchvision.utils.make_grid(images)\n",
        "    imshow(img, title=[str(x.item()) for x in labels])\n",
        "    \n",
        "    return images, labels"
      ],
      "execution_count": 95,
      "outputs": []
    },
    {
      "cell_type": "code",
      "metadata": {
        "id": "2LCi0WLikeFb",
        "outputId": "8f8beeb9-0027-4bd8-fb3c-43daa70efb28",
        "colab": {
          "base_uri": "https://localhost:8080/",
          "height": 264
        }
      },
      "source": [
        "images, labels = show_batch_images(trainloader)"
      ],
      "execution_count": 96,
      "outputs": [
        {
          "output_type": "display_data",
          "data": {
            "text/plain": [
              "<Figure size 1152x288 with 1 Axes>"
            ],
            "image/png": "[encoded data removed]"
          },
          "metadata": {
            "needs_background": "light"
          }
        }
      ]
    },
    {
      "cell_type": "markdown",
      "metadata": {
        "id": "MBMI0JAQRKWV"
      },
      "source": [
        "## Batchnorm"
      ]
    },
    {
      "cell_type": "code",
      "metadata": {
        "id": "ugjkClw71suO"
      },
      "source": [
        "class MyNet(nn.Module):\n",
        "    def __init__(self): \n",
        "        super(MyNet, self).__init__()\n",
        "        self.classifier = nn.Sequential(\n",
        "            nn.Linear(784, 48),  # 28 x 28 = 784\n",
        "            nn.ReLU(),\n",
        "            nn.Linear(48, 24),\n",
        "            nn.ReLU(),\n",
        "            nn.Linear(24, 10)\n",
        "        )\n",
        "             \n",
        "    def forward(self, x):\n",
        "        x = x.view(x.size(0), -1)\n",
        "        x = self.classifier(x)\n",
        "        return x"
      ],
      "execution_count": 97,
      "outputs": []
    },
    {
      "cell_type": "code",
      "metadata": {
        "id": "airXDQT52PGt"
      },
      "source": [
        "class MyNetBN(nn.Module):\n",
        "    def __init__(self): \n",
        "        super(MyNetBN, self).__init__()\n",
        "        self.classifier = nn.Sequential(\n",
        "            nn.Linear(784, 48),\n",
        "            nn.BatchNorm1d(48),\n",
        "            nn.ReLU(),\n",
        "            nn.Linear(48, 24),\n",
        "            nn.BatchNorm1d(24),\n",
        "            nn.ReLU(),\n",
        "            nn.Linear(24, 10)\n",
        "        )\n",
        "             \n",
        "    def forward(self, x):\n",
        "        x = x.view(x.size(0), -1)\n",
        "        x = self.classifier(x)\n",
        "        return x"
      ],
      "execution_count": 98,
      "outputs": []
    },
    {
      "cell_type": "code",
      "metadata": {
        "id": "4YDM_ITyl2vm",
        "outputId": "3b222893-f391-4c44-ae47-eba543a2818a",
        "colab": {
          "base_uri": "https://localhost:8080/"
        }
      },
      "source": [
        "model = MyNet()\n",
        "print(model)"
      ],
      "execution_count": 99,
      "outputs": [
        {
          "output_type": "stream",
          "name": "stdout",
          "text": [
            "MyNet(\n",
            "  (classifier): Sequential(\n",
            "    (0): Linear(in_features=784, out_features=48, bias=True)\n",
            "    (1): ReLU()\n",
            "    (2): Linear(in_features=48, out_features=24, bias=True)\n",
            "    (3): ReLU()\n",
            "    (4): Linear(in_features=24, out_features=10, bias=True)\n",
            "  )\n",
            ")\n"
          ]
        }
      ]
    },
    {
      "cell_type": "code",
      "metadata": {
        "id": "BXQjwMiIphyT",
        "outputId": "7bc88569-eeb8-4e14-fc14-d58ff2456fcf",
        "colab": {
          "base_uri": "https://localhost:8080/"
        }
      },
      "source": [
        "model_bn = MyNetBN()\n",
        "print(model_bn)"
      ],
      "execution_count": 100,
      "outputs": [
        {
          "output_type": "stream",
          "name": "stdout",
          "text": [
            "MyNetBN(\n",
            "  (classifier): Sequential(\n",
            "    (0): Linear(in_features=784, out_features=48, bias=True)\n",
            "    (1): BatchNorm1d(48, eps=1e-05, momentum=0.1, affine=True, track_running_stats=True)\n",
            "    (2): ReLU()\n",
            "    (3): Linear(in_features=48, out_features=24, bias=True)\n",
            "    (4): BatchNorm1d(24, eps=1e-05, momentum=0.1, affine=True, track_running_stats=True)\n",
            "    (5): ReLU()\n",
            "    (6): Linear(in_features=24, out_features=10, bias=True)\n",
            "  )\n",
            ")\n"
          ]
        }
      ]
    },
    {
      "cell_type": "code",
      "metadata": {
        "id": "4z-fCHd1nH3H"
      },
      "source": [
        "batch_size = 512"
      ],
      "execution_count": 101,
      "outputs": []
    },
    {
      "cell_type": "code",
      "metadata": {
        "id": "cASdqPBfnH3N"
      },
      "source": [
        "trainloader = torch.utils.data.DataLoader(trainset, batch_size=batch_size, shuffle=True)"
      ],
      "execution_count": 102,
      "outputs": []
    },
    {
      "cell_type": "code",
      "metadata": {
        "id": "qpWwJJP5mXgx"
      },
      "source": [
        "loss_fn = nn.CrossEntropyLoss()\n",
        "opt = optim.SGD(model.parameters(), lr=0.01)\n",
        "opt_bn = optim.SGD(model_bn.parameters(), lr=0.01)"
      ],
      "execution_count": 103,
      "outputs": []
    },
    {
      "cell_type": "code",
      "metadata": {
        "id": "FANQphl-mAp1"
      },
      "source": [
        "loss_arr = []\n",
        "loss_bn_arr = []\n",
        "\n",
        "max_epochs = 2\n",
        "\n",
        "for epoch in range(max_epochs):\n",
        "\n",
        "    for i, data in enumerate(trainloader, 0):\n",
        "\n",
        "        inputs, labels = data\n",
        "\n",
        "        # training steps for normal model\n",
        "        opt.zero_grad()\n",
        "        outputs = model(inputs)\n",
        "        loss = loss_fn(outputs, labels)\n",
        "        loss.backward()\n",
        "        opt.step()\n",
        "        \n",
        "        # training steps for bn model\n",
        "        opt_bn.zero_grad()\n",
        "        outputs_bn = model_bn(inputs)\n",
        "        loss_bn = loss_fn(outputs_bn, labels)\n",
        "        loss_bn.backward()\n",
        "        opt_bn.step()\n",
        "        \n",
        "        loss_arr.append(loss.item())\n",
        "        loss_bn_arr.append(loss_bn.item())\n",
        "        \n",
        "        if i % 10 == 0:\n",
        "        \n",
        "            inputs = inputs.view(inputs.size(0), -1)\n",
        "            \n",
        "            model.eval()\n",
        "            model_bn.eval()\n",
        "            \n",
        "            a = model.classifier[0](inputs)\n",
        "#             a = model.classifier[1](a)\n",
        "#             a = model.classifier[2](a)\n",
        "            a = a.detach().numpy().ravel()\n",
        "            sns.distplot(a, kde=True, color='r', label='Normal') \n",
        "            \n",
        "            b = model_bn.classifier[0](inputs)\n",
        "            b = model_bn.classifier[1](b)\n",
        "#             b = model_bn.classifier[2](b)\n",
        "#             b = model_bn.classifier[3](b)\n",
        "#             b = model_bn.classifier[4](b)\n",
        "            b = b.detach().numpy().ravel()\n",
        "            \n",
        "            sns.distplot(b, kde=True, color='g', label='BatchNorm') \n",
        "            plt.title('%d: Loss = %0.2f, Loss with bn = %0.2f' % (i, loss.item(), loss_bn.item()))\n",
        "            plt.legend()\n",
        "            plt.show()\n",
        "            plt.pause(0.5)\n",
        "            \n",
        "            model.train()\n",
        "            model_bn.train()\n",
        "        \n",
        "        \n",
        "    print('----------------------')\n",
        "\n",
        "    plt.plot(loss_arr, 'r', label='Normal')\n",
        "    plt.plot(loss_bn_arr, 'g', label='BatchNorm')\n",
        "    plt.legend()\n",
        "    plt.show()"
      ],
      "execution_count": null,
      "outputs": []
    },
    {
      "cell_type": "code",
      "metadata": {
        "id": "Lq2RJGUBoadC"
      },
      "source": [
        "class CNN_BN(nn.Module):\n",
        "    def __init__(self): \n",
        "        super().__init__()\n",
        "        self.features = nn.Sequential(\n",
        "            nn.Conv2d(1, 3, 5),         # (N, 1, 28, 28) -> (N,  3, 24, 24)\n",
        "            nn.ReLU(),\n",
        "            nn.AvgPool2d(2, stride=2),  # (N, 3, 24, 24) -> (N,  3, 12, 12)\n",
        "            nn.Conv2d(3, 6, 3),\n",
        "            nn.BatchNorm2d(6)           # (N, 3, 12, 12) -> (N,  6, 10, 10) \n",
        "        )\n",
        "        self.features1 = nn.Sequential(\n",
        "            nn.ReLU(),\n",
        "            nn.AvgPool2d(2, stride=2)   # (N, 6, 10, 10) -> (N,  6, 5, 5)\n",
        "        )\n",
        "        self.classifier = nn.Sequential(\n",
        "            nn.Linear(150, 25),         # (N, 150) -> (N, 25)\n",
        "            nn.ReLU(),\n",
        "            nn.Linear(25,10)            # (N, 25) -> (N, 10)\n",
        "        )\n",
        "        \n",
        "    def forward(self, x):\n",
        "        x = self.features(x)\n",
        "        x = self.features1(x)\n",
        "        x = x.view(x.size(0), -1)\n",
        "        x = self.classifier(x)\n",
        "        return x"
      ],
      "execution_count": 105,
      "outputs": []
    },
    {
      "cell_type": "code",
      "source": [
        "cnn_bn_model = CNN_BN()\n",
        "print(cnn_bn_model)"
      ],
      "metadata": {
        "colab": {
          "base_uri": "https://localhost:8080/"
        },
        "id": "a8nf9GOTdBEn",
        "outputId": "f5e9053e-3c48-4533-982d-38c8ef9dbf22"
      },
      "execution_count": 106,
      "outputs": [
        {
          "output_type": "stream",
          "name": "stdout",
          "text": [
            "CNN_BN(\n",
            "  (features): Sequential(\n",
            "    (0): Conv2d(1, 3, kernel_size=(5, 5), stride=(1, 1))\n",
            "    (1): ReLU()\n",
            "    (2): AvgPool2d(kernel_size=2, stride=2, padding=0)\n",
            "    (3): Conv2d(3, 6, kernel_size=(3, 3), stride=(1, 1))\n",
            "    (4): BatchNorm2d(6, eps=1e-05, momentum=0.1, affine=True, track_running_stats=True)\n",
            "  )\n",
            "  (features1): Sequential(\n",
            "    (0): ReLU()\n",
            "    (1): AvgPool2d(kernel_size=2, stride=2, padding=0)\n",
            "  )\n",
            "  (classifier): Sequential(\n",
            "    (0): Linear(in_features=150, out_features=25, bias=True)\n",
            "    (1): ReLU()\n",
            "    (2): Linear(in_features=25, out_features=10, bias=True)\n",
            "  )\n",
            ")\n"
          ]
        }
      ]
    },
    {
      "cell_type": "code",
      "source": [
        "trainset_cnn = torchvision.datasets.MNIST(root='./data', train=True, \n",
        "                                        download=True, \n",
        "                                        transform=transforms.ToTensor())"
      ],
      "metadata": {
        "id": "Nuqmxz_pmsU0"
      },
      "execution_count": 107,
      "outputs": []
    },
    {
      "cell_type": "code",
      "source": [
        "batch_size = 512\n",
        "trainloader_cnn = torch.utils.data.DataLoader(trainset_cnn, batch_size=batch_size, shuffle=True)"
      ],
      "metadata": {
        "id": "i4GQcg_Qdp-A"
      },
      "execution_count": 108,
      "outputs": []
    },
    {
      "cell_type": "code",
      "source": [
        "opt_cnn_bn = optim.SGD(model.parameters(), lr=0.01)"
      ],
      "metadata": {
        "id": "lvBmt2GPd6vY"
      },
      "execution_count": 109,
      "outputs": []
    },
    {
      "cell_type": "code",
      "source": [
        "loss_cnn_bn = []\n",
        "max_epochs = 2\n",
        "for epoch in range(max_epochs):\n",
        "  for i,data in enumerate(trainloader_cnn,0):\n",
        "    input, label = data\n",
        "    opt_cnn_bn.zero_grad()\n",
        "    output = cnn_bn_model(input)\n",
        "    loss_cnn = loss_fn(output,label)\n",
        "    loss_cnn.backward()\n",
        "    opt_cnn_bn.step()\n",
        "    loss_cnn_bn.append(loss_cnn)"
      ],
      "metadata": {
        "id": "YSX-jG9WjLmT"
      },
      "execution_count": 111,
      "outputs": []
    },
    {
      "cell_type": "markdown",
      "metadata": {
        "id": "K7Wbb3yyRZ1m"
      },
      "source": [
        "## Dropout"
      ]
    },
    {
      "cell_type": "code",
      "metadata": {
        "id": "-jE_uh4MRdUU"
      },
      "source": [
        "N = 50\n",
        "noise = 0.3\n",
        "\n",
        "X_train = torch.unsqueeze(torch.linspace(-1, 1, N), 1)\n",
        "Y_train = X_train + noise * torch.normal(torch.zeros(N, 1), torch.ones(N, 1))\n",
        "\n",
        "X_test = torch.unsqueeze(torch.linspace(-1, 1, N), 1)\n",
        "Y_test = X_test + noise * torch.normal(torch.zeros(N, 1), torch.ones(N, 1))"
      ],
      "execution_count": 112,
      "outputs": []
    },
    {
      "cell_type": "code",
      "metadata": {
        "id": "ddZ9F9umR-9X"
      },
      "source": [
        "plt.scatter(X_train.data.numpy(), Y_train.data.numpy(), c='purple', alpha=0.5, label='train')\n",
        "plt.scatter(X_test.data.numpy(), Y_test.data.numpy(), c='yellow', alpha=0.5, label='test')\n",
        "plt.legend()\n",
        "plt.show()"
      ],
      "execution_count": null,
      "outputs": []
    },
    {
      "cell_type": "code",
      "metadata": {
        "id": "VOOiuwL9Sf_4"
      },
      "source": [
        "N_h = 100\n",
        "\n",
        "model = torch.nn.Sequential(\n",
        "    torch.nn.Linear(1, N_h),\n",
        "    torch.nn.ReLU(),\n",
        "    torch.nn.Linear(N_h, N_h),\n",
        "    torch.nn.ReLU(),\n",
        "    torch.nn.Linear(N_h, 1),\n",
        ")\n",
        "\n",
        "model_dropout = torch.nn.Sequential(\n",
        "    torch.nn.Linear(1, N_h),\n",
        "    torch.nn.Dropout(0.2),\n",
        "    torch.nn.ReLU(),\n",
        "    torch.nn.Linear(N_h, N_h),\n",
        "    torch.nn.Dropout(0.2),\n",
        "    torch.nn.ReLU(),\n",
        "    torch.nn.Linear(N_h, 1),\n",
        ")"
      ],
      "execution_count": null,
      "outputs": []
    },
    {
      "cell_type": "code",
      "metadata": {
        "id": "7QrGLYVfTdmk"
      },
      "source": [
        "opt = torch.optim.Adam(model.parameters(), lr=0.01)\n",
        "opt_dropout = torch.optim.Adam(model_dropout.parameters(), lr=0.01)\n",
        "loss_fn = torch.nn.MSELoss()"
      ],
      "execution_count": null,
      "outputs": []
    },
    {
      "cell_type": "code",
      "metadata": {
        "id": "CQNTiF2MT2Tw"
      },
      "source": [
        "max_epochs = 1000\n",
        "\n",
        "for epoch in range(max_epochs):\n",
        "    \n",
        "    pred = model(X_train) # look at the entire data in a single shot\n",
        "    loss = loss_fn(pred, Y_train)\n",
        "    opt.zero_grad()\n",
        "    loss.backward()\n",
        "    opt.step()\n",
        "    \n",
        "    pred_dropout = model_dropout(X_train)\n",
        "    loss_dropout = loss_fn(pred_dropout, Y_train)\n",
        "    opt_dropout.zero_grad()\n",
        "    loss_dropout.backward()\n",
        "    opt_dropout.step()\n",
        "    \n",
        "    \n",
        "    if epoch % 50 == 0:\n",
        "        \n",
        "        model.eval()\n",
        "        model_dropout.eval()\n",
        "        \n",
        "        test_pred = model(X_test)\n",
        "        test_loss = loss_fn(test_pred, Y_test)\n",
        "        \n",
        "        test_pred_dropout = model_dropout(X_test)\n",
        "        test_loss_dropout = loss_fn(test_pred_dropout, Y_test)\n",
        "        \n",
        "        plt.scatter(X_train.data.numpy(), Y_train.data.numpy(), c='purple', alpha=0.5, label='train')\n",
        "        plt.scatter(X_test.data.numpy(), Y_test.data.numpy(), c='yellow', alpha=0.5, label='test')\n",
        "        plt.plot(X_test.data.numpy(), test_pred.data.numpy(), 'r-', lw=3, label='normal')\n",
        "        plt.plot(X_test.data.numpy(), test_pred_dropout.data.numpy(), 'b--', lw=3,  label='dropout')\n",
        "        \n",
        "        plt.title('Epoch %d, Loss = %0.4f, Loss with dropout = %0.4f' % (epoch, test_loss, test_loss_dropout))\n",
        "        \n",
        "        plt.legend()\n",
        "\n",
        "        model.train()\n",
        "        model_dropout.train()\n",
        "        \n",
        "        plt.pause(0.05)"
      ],
      "execution_count": null,
      "outputs": []
    },
    {
      "cell_type": "markdown",
      "metadata": {
        "id": "jRNkf3sKRcde"
      },
      "source": [
        "## Exercises"
      ]
    },
    {
      "cell_type": "markdown",
      "metadata": {
        "id": "_RAJlM8enGR6"
      },
      "source": [
        "1. Try out BatchNorm2d with MNIST dataset on a CNN\n",
        "2. Try Dropout on a CNN with CIFAR10\n",
        "3. Think of how to create a dataset which can suffer from large batch variation and/or overfitting\n",
        "4. Try out BatchNorm and Dropout networks for such dataset"
      ]
    }
  ]
}