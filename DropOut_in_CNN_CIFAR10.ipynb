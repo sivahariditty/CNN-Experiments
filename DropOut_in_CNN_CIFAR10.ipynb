{
  "nbformat": 4,
  "nbformat_minor": 0,
  "metadata": {
    "colab": {
      "name": "DropOut in CNN - CIFAR10",
      "provenance": [],
      "authorship_tag": "ABX9TyOIx2Hp2x4AhCgLq6DVUdpX",
      "include_colab_link": true
    },
    "kernelspec": {
      "name": "python3",
      "display_name": "Python 3"
    },
    "language_info": {
      "name": "python"
    },
    "accelerator": "GPU"
  },
  "cells": [
    {
      "cell_type": "markdown",
      "metadata": {
        "id": "view-in-github",
        "colab_type": "text"
      },
      "source": [
        "<a href=\"https://colab.research.google.com/github/sivahariditty/CNN-Experiments/blob/main/DropOut_in_CNN_CIFAR10.ipynb\" target=\"_parent\"><img src=\"https://colab.research.google.com/assets/colab-badge.svg\" alt=\"Open In Colab\"/></a>"
      ]
    },
    {
      "cell_type": "code",
      "execution_count": 32,
      "metadata": {
        "id": "jpa8T1fwtK0P"
      },
      "outputs": [],
      "source": [
        "import torch\n",
        "import matplotlib.pyplot as plt\n",
        "import numpy as np\n",
        "\n",
        "import torchvision\n",
        "import torchvision.transforms as transforms\n",
        "\n",
        "import torch.nn as nn\n",
        "import torch.optim as optim\n",
        "import seaborn as sns\n"
      ]
    },
    {
      "cell_type": "code",
      "source": [
        "trainset = torchvision.datasets.CIFAR10(root='./data', train=True, \n",
        "                                        download=True, \n",
        "                                        transform=transforms.ToTensor())"
      ],
      "metadata": {
        "colab": {
          "base_uri": "https://localhost:8080/"
        },
        "id": "B3uaF1TV-VEG",
        "outputId": "5941c230-4824-4a01-b1bc-4e688deec968"
      },
      "execution_count": 33,
      "outputs": [
        {
          "output_type": "stream",
          "name": "stdout",
          "text": [
            "Files already downloaded and verified\n"
          ]
        }
      ]
    },
    {
      "cell_type": "code",
      "source": [
        "batch_size = 32\n",
        "trainloader = torch.utils.data.DataLoader(trainset, batch_size=batch_size, shuffle=True)"
      ],
      "metadata": {
        "id": "YpPsG5E3BwCX"
      },
      "execution_count": 34,
      "outputs": []
    },
    {
      "cell_type": "code",
      "source": [
        "dataiter = iter(trainloader)\n",
        "images, labels = dataiter.next()\n",
        "\n",
        "print(images.shape)\n",
        "\n",
        "print(images[0].shape)\n",
        "print(labels[0].item())\n",
        "plt.imshow(np.transpose(images[0], (1, 2, 0)))\n",
        "plt.show()"
      ],
      "metadata": {
        "colab": {
          "base_uri": "https://localhost:8080/",
          "height": 318
        },
        "id": "e4z__MCZC35B",
        "outputId": "ef36768b-c242-4fe5-e5d5-7c26d3fc22ed"
      },
      "execution_count": 35,
      "outputs": [
        {
          "output_type": "stream",
          "name": "stdout",
          "text": [
            "torch.Size([32, 3, 32, 32])\n",
            "torch.Size([3, 32, 32])\n",
            "6\n"
          ]
        },
        {
          "output_type": "display_data",
          "data": {
            "text/plain": [
              "<Figure size 432x288 with 1 Axes>"
            ],
            "image/png": "[encoded data removed]"
          },
          "metadata": {
            "needs_background": "light"
          }
        }
      ]
    },
    {
      "cell_type": "code",
      "source": [
        "class CNNDropOut(nn.Module):\n",
        "  def __init__(self):\n",
        "    super().__init__()\n",
        "    self.features = torch.nn.Sequential(\n",
        "        torch.nn.Conv2d(3, 10, 3), # (N, 3, 32, 32) -> (N, 10, 30, 30)\n",
        "        torch.nn.ReLU(),\n",
        "        torch.nn.Conv2d(10, 8, 3), # (N, 10, 30, 30) -> (N, 8, 28, 28)\n",
        "        nn.AvgPool2d(2, stride=2) # (N, 8, 28, 28) -> (N, 8, 14, 14)\n",
        "    )\n",
        "    self.classifier = torch.nn.Sequential(\n",
        "        nn.Linear(1568, 25), # (N, 1568) -> (N, 25)\n",
        "        nn.Dropout(0.8),\n",
        "        nn.ReLU(),\n",
        "        nn.Linear(25,10), # (N, 25) -> (N, 10)\n",
        "        nn.Dropout(0.8),\n",
        "        nn.ReLU()\n",
        "    )\n",
        "\n",
        "  def forward(self, x):\n",
        "    x = self.features(x)\n",
        "    x = x.view(x.size(0), -1)\n",
        "    x = self.classifier(x)\n",
        "    return x"
      ],
      "metadata": {
        "id": "j2lbsMHSDm17"
      },
      "execution_count": 49,
      "outputs": []
    },
    {
      "cell_type": "code",
      "source": [
        "model_dropout = CNNDropOut()"
      ],
      "metadata": {
        "id": "IaJUROjYQgCH"
      },
      "execution_count": 50,
      "outputs": []
    },
    {
      "cell_type": "code",
      "source": [
        "# opt = torch.optim.Adam(model.parameters(), lr=0.01)\n",
        "opt_dropout = torch.optim.Adam(model_dropout.parameters(), lr=0.01)\n",
        "loss_fn = torch.nn.CrossEntropyLoss()"
      ],
      "metadata": {
        "id": "zg3xVkf3-zki"
      },
      "execution_count": 51,
      "outputs": []
    },
    {
      "cell_type": "code",
      "source": [
        "max_epochs = 2\n",
        "\n",
        "for epoch in range(max_epochs):\n",
        "    for i,data in enumerate(trainloader,0):\n",
        "      input, label = data\n",
        "      pred_dropout = model_dropout(input)\n",
        "      loss_dropout = loss_fn(pred_dropout, label)\n",
        "      opt_dropout.zero_grad()\n",
        "      loss_dropout.backward()\n",
        "      opt_dropout.step()\n",
        "    \n",
        "    # pred = model(X_train) # look at the entire data in a single shot\n",
        "    # loss = loss_fn(pred, Y_train)\n",
        "    # opt.zero_grad()\n",
        "    # loss.backward()\n",
        "    # opt.step()\n",
        "    # if epoch % 50 == 0:\n",
        "        \n",
        "    #     model.eval()\n",
        "    #     model_dropout.eval()\n",
        "        \n",
        "    #     test_pred = model(X_test)\n",
        "    #     test_loss = loss_fn(test_pred, Y_test)\n",
        "        \n",
        "    #     test_pred_dropout = model_dropout(X_test)\n",
        "    #     test_loss_dropout = loss_fn(test_pred_dropout, Y_test)\n",
        "        \n",
        "    #     plt.scatter(X_train.data.numpy(), Y_train.data.numpy(), c='purple', alpha=0.5, label='train')\n",
        "    #     plt.scatter(X_test.data.numpy(), Y_test.data.numpy(), c='yellow', alpha=0.5, label='test')\n",
        "    #     plt.plot(X_test.data.numpy(), test_pred.data.numpy(), 'r-', lw=3, label='normal')\n",
        "    #     plt.plot(X_test.data.numpy(), test_pred_dropout.data.numpy(), 'b--', lw=3,  label='dropout')\n",
        "        \n",
        "    #     plt.title('Epoch %d, Loss = %0.4f, Loss with dropout = %0.4f' % (epoch, test_loss, test_loss_dropout))\n",
        "        \n",
        "    #     plt.legend()\n",
        "\n",
        "    #     model.train()\n",
        "    #     model_dropout.train()\n",
        "        \n",
        "    #     plt.pause(0.05)"
      ],
      "metadata": {
        "id": "nzYFtUtpBfVR"
      },
      "execution_count": 52,
      "outputs": []
    }
  ]
}